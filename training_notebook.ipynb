{
 "cells": [
  {
   "cell_type": "code",
   "execution_count": 1,
   "metadata": {},
   "outputs": [],
   "source": [
    "import os\n",
    "import json\n",
    "from pprint import pprint as pp\n",
    "from glob import iglob\n",
    "import pickle\n",
    "\n",
    "import numpy as np\n",
    "\n",
    "from wirusy.DataLoader import DataLoader"
   ]
  },
  {
   "cell_type": "code",
   "execution_count": 2,
   "metadata": {},
   "outputs": [],
   "source": [
    "dataloader = DataLoader(data_folder='data', tests_folder ='tests')\n",
    "MAX_LEN_VIRUS = 497513\n",
    "MAX_LEN_BACTERIA = 16040666\n",
    "FEATURES = ['blastn-rbo/eval10/rbo_unmerged_ranks_1000hits', 'blastn/eval10/best_hsp_bitscore', 'crispr/pilercr-default/max_mismatch2', 'gc_content/difference', 'kmer-canonical/k6/chebyshev']"
   ]
  },
  {
   "cell_type": "code",
   "execution_count": 3,
   "metadata": {
    "tags": []
   },
   "outputs": [],
   "source": [
    "data = None\n",
    "with open(dataloader.tests_folder+\"/-225/virus-seq-and-features.p\", \"rb\") as fd:\n",
    "    data = pickle.load(fd)\n"
   ]
  },
  {
   "cell_type": "code",
   "execution_count": 32,
   "metadata": {},
   "outputs": [],
   "source": [
    "import tensorflow as tf\n",
    "from tensorflow import keras\n",
    "from tensorflow.keras import Model\n",
    "from tensorflow.keras.layers import concatenate, Input, Dense, Conv1D, MaxPool1D, Dropout, Flatten"
   ]
  },
  {
   "cell_type": "code",
   "execution_count": 49,
   "metadata": {},
   "outputs": [],
   "source": [
    "def conv(filters: int, kernel_size: int, activation='relu', initializer='he_uniform') -> Conv1D:\n",
    "    \"\"\"\n",
    "    Creates 1D convolutional layer with default settings.\n",
    "    \"\"\"\n",
    "    return Conv1D(filters=filters, kernel_size=kernel_size, padding='same',\n",
    "                  activation=activation, kernel_initializer=initializer)\n",
    "\n",
    "def dense(units: int, activation='relu', initializer='he_uniform') -> Dense:\n",
    "    \"\"\"\n",
    "    Created fully-connected layer with default settings.\n",
    "    \"\"\"\n",
    "    return Dense(units=units, activation=activation, kernel_initializer=initializer)\n",
    "\n",
    "def build_model(sequence_length) -> Model:\n",
    "    \"\"\"\n",
    "    Builds neural network classifier model based on 1D convolutional layers.\n",
    "    \"\"\"\n",
    "    input_layer = Input(shape=(sequence_length, 4))\n",
    "\n",
    "    codon = conv(filters=64, kernel_size=3)(input_layer)\n",
    "    codon = Dropout(0.5)(codon)\n",
    "\n",
    "    conv1 = MaxPool1D(pool_size=2)(codon)\n",
    "    conv1 = conv(filters=16, kernel_size=12)(conv1)\n",
    "    conv1 = conv(filters=16, kernel_size=12)(conv1)\n",
    "\n",
    "    conv2 = MaxPool1D(pool_size=2)(conv1)\n",
    "    conv2 = conv(filters=16, kernel_size=24)(conv2)\n",
    "    conv2 = conv(filters=16, kernel_size=24)(conv2)\n",
    "\n",
    "    conv1 = MaxPool1D(pool_size=4)(conv1)\n",
    "    conv3 = MaxPool1D(pool_size=2)(conv2)\n",
    "    conv3 = Dropout(0.5)(conv3)\n",
    "    conv3 = concatenate([conv1, conv3])\n",
    "    conv3 = conv(filters=16, kernel_size=32)(conv3)\n",
    "    conv3 = conv(filters=16, kernel_size=32)(conv3)\n",
    "\n",
    "    conv2 = MaxPool1D(pool_size=4)(conv2)\n",
    "    conv4 = MaxPool1D(pool_size=2)(conv3)\n",
    "    conv4 = concatenate([conv2, conv4])\n",
    "    conv4 = conv(filters=16, kernel_size=24)(conv4)\n",
    "    conv4 = MaxPool1D(pool_size=3)(conv4)\n",
    "\n",
    "    combined = Flatten()(conv4)\n",
    "    combined = Dropout(0.5)(combined)\n",
    "    combined = dense(units=256)(combined)\n",
    "    combined = dense(units=256)(combined)\n",
    "    output_1 = Dense(units=10, activation='softmax')(combined)\n",
    "\n",
    "    #End of CNN, Begining of adding additional bacterial features\n",
    "\n",
    "    input_2 = Input(shape=(5,))\n",
    "    concat = concatenate([output_1, input_2])\n",
    "\n",
    "    flat = Flatten()(concat)\n",
    "    den = dense(units=256)(flat)\n",
    "    den = dense(units=256)(den)\n",
    "    output_all = Dense(units=2, activation='sigmoid')(den)\n",
    "\n",
    "    model = Model(inputs=[input_layer, input_2], outputs=output_all)\n",
    "    model.compile(loss='binary_crossentropy',\n",
    "                  optimizer='adam',\n",
    "                  metrics=['accuracy', 'mae'])\n",
    "    model.summary()\n",
    "\n",
    "    return model"
   ]
  },
  {
   "cell_type": "code",
   "execution_count": 50,
   "metadata": {},
   "outputs": [
    {
     "output_type": "stream",
     "name": "stdout",
     "text": [
      "Model: \"model_10\"\n__________________________________________________________________________________________________\nLayer (type)                    Output Shape         Param #     Connected to                     \n==================================================================================================\ninput_23 (InputLayer)           [(None, 497513, 4)]  0                                            \n__________________________________________________________________________________________________\nconv1d_93 (Conv1D)              (None, 497513, 64)   832         input_23[0][0]                   \n__________________________________________________________________________________________________\ndropout_38 (Dropout)            (None, 497513, 64)   0           conv1d_93[0][0]                  \n__________________________________________________________________________________________________\nmax_pooling1d_81 (MaxPooling1D) (None, 248756, 64)   0           dropout_38[0][0]                 \n__________________________________________________________________________________________________\nconv1d_94 (Conv1D)              (None, 248756, 16)   12304       max_pooling1d_81[0][0]           \n__________________________________________________________________________________________________\nconv1d_95 (Conv1D)              (None, 248756, 16)   3088        conv1d_94[0][0]                  \n__________________________________________________________________________________________________\nmax_pooling1d_82 (MaxPooling1D) (None, 124378, 16)   0           conv1d_95[0][0]                  \n__________________________________________________________________________________________________\nconv1d_96 (Conv1D)              (None, 124378, 16)   6160        max_pooling1d_82[0][0]           \n__________________________________________________________________________________________________\nconv1d_97 (Conv1D)              (None, 124378, 16)   6160        conv1d_96[0][0]                  \n__________________________________________________________________________________________________\nmax_pooling1d_84 (MaxPooling1D) (None, 62189, 16)    0           conv1d_97[0][0]                  \n__________________________________________________________________________________________________\nmax_pooling1d_83 (MaxPooling1D) (None, 62189, 16)    0           conv1d_95[0][0]                  \n__________________________________________________________________________________________________\ndropout_39 (Dropout)            (None, 62189, 16)    0           max_pooling1d_84[0][0]           \n__________________________________________________________________________________________________\nconcatenate_21 (Concatenate)    (None, 62189, 32)    0           max_pooling1d_83[0][0]           \n                                                                 dropout_39[0][0]                 \n__________________________________________________________________________________________________\nconv1d_98 (Conv1D)              (None, 62189, 16)    16400       concatenate_21[0][0]             \n__________________________________________________________________________________________________\nconv1d_99 (Conv1D)              (None, 62189, 16)    8208        conv1d_98[0][0]                  \n__________________________________________________________________________________________________\nmax_pooling1d_85 (MaxPooling1D) (None, 31094, 16)    0           conv1d_97[0][0]                  \n__________________________________________________________________________________________________\nmax_pooling1d_86 (MaxPooling1D) (None, 31094, 16)    0           conv1d_99[0][0]                  \n__________________________________________________________________________________________________\nconcatenate_22 (Concatenate)    (None, 31094, 32)    0           max_pooling1d_85[0][0]           \n                                                                 max_pooling1d_86[0][0]           \n__________________________________________________________________________________________________\nconv1d_100 (Conv1D)             (None, 31094, 16)    12304       concatenate_22[0][0]             \n__________________________________________________________________________________________________\nmax_pooling1d_87 (MaxPooling1D) (None, 10364, 16)    0           conv1d_100[0][0]                 \n__________________________________________________________________________________________________\nflatten_15 (Flatten)            (None, 165824)       0           max_pooling1d_87[0][0]           \n__________________________________________________________________________________________________\ndropout_40 (Dropout)            (None, 165824)       0           flatten_15[0][0]                 \n__________________________________________________________________________________________________\ndense_41 (Dense)                (None, 256)          42451200    dropout_40[0][0]                 \n__________________________________________________________________________________________________\ndense_42 (Dense)                (None, 256)          65792       dense_41[0][0]                   \n__________________________________________________________________________________________________\ndense_43 (Dense)                (None, 10)           2570        dense_42[0][0]                   \n__________________________________________________________________________________________________\ninput_24 (InputLayer)           [(None, 5)]          0                                            \n__________________________________________________________________________________________________\nconcatenate_23 (Concatenate)    (None, 15)           0           dense_43[0][0]                   \n                                                                 input_24[0][0]                   \n__________________________________________________________________________________________________\nflatten_16 (Flatten)            (None, 15)           0           concatenate_23[0][0]             \n__________________________________________________________________________________________________\ndense_44 (Dense)                (None, 256)          4096        flatten_16[0][0]                 \n__________________________________________________________________________________________________\ndense_45 (Dense)                (None, 256)          65792       dense_44[0][0]                   \n__________________________________________________________________________________________________\ndense_46 (Dense)                (None, 2)            514         dense_45[0][0]                   \n==================================================================================================\nTotal params: 42,655,420\nTrainable params: 42,655,420\nNon-trainable params: 0\n__________________________________________________________________________________________________\n"
     ]
    }
   ],
   "source": [
    "model = build_model(MAX_LEN_VIRUS)"
   ]
  },
  {
   "cell_type": "code",
   "execution_count": null,
   "metadata": {},
   "outputs": [],
   "source": []
  }
 ],
 "metadata": {
  "kernelspec": {
   "display_name": "Python 3",
   "language": "python",
   "name": "python3"
  },
  "language_info": {
   "codemirror_mode": {
    "name": "ipython",
    "version": 3
   },
   "file_extension": ".py",
   "mimetype": "text/x-python",
   "name": "python",
   "nbconvert_exporter": "python",
   "pygments_lexer": "ipython3",
   "version": "3.8.5-final"
  }
 },
 "nbformat": 4,
 "nbformat_minor": 4
}